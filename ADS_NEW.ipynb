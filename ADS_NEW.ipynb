{
 "cells": [
  {
   "cell_type": "markdown",
   "id": "f582c979",
   "metadata": {},
   "source": [
    "# ASSIGNMENT - 2\n",
    "\n",
    "### Name         :  Nazrin Thanikattil Rafeeque\n",
    "### Student ID :  21031314\n"
   ]
  },
  {
   "cell_type": "code",
   "execution_count": null,
   "id": "08c46f0a",
   "metadata": {},
   "outputs": [],
   "source": [
    "import pandas as pd\n",
    "import numpy as np\n",
    "import wbgapi as wb\n",
    "import matplotlib.pyplot as plt\n",
    "import scipy.stats as stats\n",
    "%matplotlib inline\n",
    "import seaborn as sns"
   ]
  },
  {
   "cell_type": "markdown",
   "id": "44a0a3ab",
   "metadata": {},
   "source": [
    "### Defining Functions"
   ]
  },
  {
   "cell_type": "code",
   "execution_count": null,
   "id": "73791d9d",
   "metadata": {},
   "outputs": [],
   "source": [
    "\"\"\"Defines a function which takes a filename as argument, reads a dataframe in World bank format and returns \n",
    "two dataframes: one with years as columns and one with countries as columns\"\"\"\n",
    "\n",
    "def wb_dataframe(Filename,country_list):\n",
    "    df1 = wb.data.DataFrame(Filename,country_codes,time=range(2010,2019),columns='economy')\n",
    "    df2= wb.data.DataFrame(Filename,country_codes,time=range(2010,2019))\n",
    "    \n",
    "    return df1,df2\n"
   ]
  },
  {
   "cell_type": "code",
   "execution_count": null,
   "id": "49bf70ab",
   "metadata": {},
   "outputs": [],
   "source": [
    "\"\"\"Defines a function to provide Xlabel ,Y label and Titler for the Plots\"\"\"\n",
    "def plot_labels(x_label,y_label,title):\n",
    "    plt.xticks( rotation='vertical')\n",
    "    plt.xlabel(x_label)\n",
    "    plt.ylabel(y_label)\n",
    "    plt.title(title,fontsize= 15, fontweight='bold')"
   ]
  },
  {
   "cell_type": "code",
   "execution_count": null,
   "id": "77b75692",
   "metadata": {},
   "outputs": [],
   "source": [
    "\"\"\"Function to print the Different summary statitics of dataframe Attributes\"\"\"\n",
    "def Display_stats(Attributes):\n",
    "    print(\"average:        \", np.average(Attributes))\n",
    "    print(\"std. deviations:\", np.std(Attributes))\n",
    "    print(\"maximum :       \", np.max(Attributes))\n",
    "    print(\"minimum :       \", np.min(Attributes))\n",
    "    print(\"skewness:       \", stats.skew(Attributes))\n",
    "    print(\"kurtosis:       \", stats.kurtosis(Attributes))\n",
    "\n",
    "    return"
   ]
  },
  {
   "cell_type": "code",
   "execution_count": null,
   "id": "8eab3e1f",
   "metadata": {},
   "outputs": [],
   "source": [
    "\"\"\"Defining Function for the Subplots\"\"\"\n",
    "\n",
    "\n",
    "def subplot(data_1,data_2,data_3,data_4):  \n",
    "    plt.style.use('fivethirtyeight')\n",
    "    plt.figure(figsize=(15,8), constrained_layout=True)\n",
    "   \n",
    "    plt.subplot(4,1,1)\n",
    "    plt.plot(data_1) \n",
    "    plot_labels('Years','values','Agricultural land (% of land area)')\n",
    "   \n",
    "    \n",
    "    plt.subplot(4,1,2)\n",
    "    plt.plot(data_2)\n",
    "    plot_labels('Years','values','Forest Area')\n",
    "\n",
    "    plt.subplot(4,1,3)\n",
    "    plt.plot(data_3)\n",
    "    plot_labels('Years','values','% of total territorial area')\n",
    "\n",
    "    plt.subplot(4,1,4)\n",
    "    plt.plot(data_4)\n",
    "    plot_labels('Years','values','value added (% of GDP)')\n",
    "    \n",
    "    \n"
   ]
  },
  {
   "cell_type": "code",
   "execution_count": null,
   "id": "2e4a61d4",
   "metadata": {},
   "outputs": [],
   "source": [
    "\"\"\"Function defining the Pie Plots Dimensions\"\"\"\n",
    "\n",
    "def Region_wise(df1,df2,subtitle):\n",
    "    fig, axes = plt.subplots(1, 2, figsize=(3,2),dpi=144)\n",
    "    plt.suptitle(subtitle,size=10)\n",
    "    for ax, df in zip(axes, (df1,df2)):\n",
    "        ax.pie(df, labels=df.index,shadow=False,startangle=90, autopct=\"%1.1f%%\"\n",
    "                    ,textprops={'fontsize': 5})\n",
    "   "
   ]
  },
  {
   "cell_type": "code",
   "execution_count": null,
   "id": "483d8c01",
   "metadata": {},
   "outputs": [],
   "source": [
    "\"\"\"Prints Pearon's and Spearmans correction coefficients between the different attributes of the dataframe\"\"\"\n",
    "\n",
    "def print_corr(df):\n",
    "    print(\"Pearson's correlation coefficients\")\n",
    "    r, p = stats.spearmanr(df[\"Agricultural land (% of land area)\"], df[\"Forest Area\"])\n",
    "    print(\"\\n Agricultural land (% of land area) vs. Forest Area coefficient \", r, \"probability\", p)\n",
    "    r, p = stats.spearmanr(df[\"Forest Area\"], df[\"% of total territorial area\"])\n",
    "    print(\"\\n Forest Area vs. % of total territorial area coefficient\", r, \"probability\", p)\n",
    "    r, p = stats.spearmanr(df[\"% of total territorial area\"], df[\"value added (% of GDP)\"])\n",
    "    print(\"\\n % of total territorial area vs. value added (% of GDP) coefficient\", r, \"probability\", p)\n",
    "    r, p = stats.spearmanr(df[\"Agricultural land (% of land area)\"], df[\"value added (% of GDP)\"])\n",
    "    print(\"\\n Agricultural land (% of land area) vs. value added (% of GDP) coefficient\", r, \"probability\", p)"
   ]
  },
  {
   "cell_type": "markdown",
   "id": "8195e18f",
   "metadata": {},
   "source": [
    "Defining and Creating DataFrame"
   ]
  },
  {
   "cell_type": "code",
   "execution_count": null,
   "id": "191fe95c",
   "metadata": {},
   "outputs": [],
   "source": [
    "#List containing the country list,indicators from World Bank API and Country groups are assigned\n",
    "\n",
    "country_codes  =  ['GBR','NLD','ESP','JPN','KOR','IND','LKA','USA','CAN']\n",
    "indicator_list =  [' AG.LND.AGRI.ZS','AG.LND.ARBL.ZS','AG.LND.FRST.ZS','NV.AGR.TOTL.ZS','ER.PTD.TOTL.ZS']\n",
    "country_groups =  ({'GBR':'Europe','NLD':'Europe',\n",
    "                 'ESP':'Europe','JPN':'East Asia','KOR':'East Asia',\n",
    "                 'IND':'South Asia','LKA':'South Asia',\n",
    "                 'USA':'North America','CAN':'North America'})"
   ]
  },
  {
   "cell_type": "code",
   "execution_count": null,
   "id": "e12a9383",
   "metadata": {
    "scrolled": true
   },
   "outputs": [],
   "source": [
    "idx=pd.IndexSlice\n",
    "#Defining Multiindex for Dataframe 2\n",
    "df1,df2 = wb_dataframe(indicator_list,country_codes)\n",
    "\n",
    "df2\n",
    "index1_ = pd.MultiIndex.from_product([['Agricultural land (% of land area)','Forest Area','value added (% of GDP)'\n",
    "                                       ,'% of total territorial area'],['GBR','NLD','ESP','JPN','KOR','IND','LKA','USA','CAN']]\n",
    "                                       ,names=['Attributes','Country'])\n",
    "df2.index = index1_"
   ]
  },
  {
   "cell_type": "code",
   "execution_count": null,
   "id": "ac5a76bd",
   "metadata": {},
   "outputs": [],
   "source": [
    "#Defining Multiindex for Dataframe 1\n",
    "\n",
    "index_ = pd.MultiIndex.from_product([['Agricultural land (% of land area)','Forest Area',\n",
    "       'value added (% of GDP)','% of total territorial area'],['YR2010','YR2011','YR2012','YR2013','YR2014','YR2015',\n",
    "                                                                'YR2016','YR2017','YR2018']],names=['Attributes','year'])\n",
    "df1.index=index_\n"
   ]
  },
  {
   "cell_type": "markdown",
   "id": "ffd6908e",
   "metadata": {},
   "source": [
    "### Data Cleaning"
   ]
  },
  {
   "cell_type": "code",
   "execution_count": null,
   "id": "05641cd9",
   "metadata": {},
   "outputs": [],
   "source": []
  },
  {
   "cell_type": "code",
   "execution_count": null,
   "id": "71ef1b0c",
   "metadata": {},
   "outputs": [],
   "source": []
  },
  {
   "cell_type": "code",
   "execution_count": null,
   "id": "624adf95",
   "metadata": {},
   "outputs": [],
   "source": []
  },
  {
   "cell_type": "code",
   "execution_count": null,
   "id": "522da4e7",
   "metadata": {},
   "outputs": [],
   "source": []
  },
  {
   "cell_type": "markdown",
   "id": "80994714",
   "metadata": {},
   "source": [
    "### Data Preperation"
   ]
  },
  {
   "cell_type": "code",
   "execution_count": null,
   "id": "e3951552",
   "metadata": {},
   "outputs": [],
   "source": []
  },
  {
   "cell_type": "code",
   "execution_count": null,
   "id": "0b19032a",
   "metadata": {},
   "outputs": [],
   "source": [
    "'''AG.LND.AGRI.ZS=Agricultural land (% of land area)\n",
    "AG.LND.ARBL.ZS= Arable Land\n",
    "\n",
    "AG.LND.FRST.ZS=Forest Area\n",
    "NV.AGR.TOTL.ZS=Agriculture, forestry, and fishing, value added (% of GDP)\n",
    "ER.PTD.TOTL.ZS=Terrestrial and marine protected areas (% of total territorial area)'''"
   ]
  },
  {
   "cell_type": "code",
   "execution_count": null,
   "id": "92c6e601",
   "metadata": {
    "scrolled": true
   },
   "outputs": [],
   "source": []
  },
  {
   "cell_type": "markdown",
   "id": "ea97733f",
   "metadata": {},
   "source": [
    "### Plotting and Analysis"
   ]
  },
  {
   "cell_type": "markdown",
   "id": "669a82a8",
   "metadata": {},
   "source": [
    "##### Analysing and Plotting the Averge Variations in the Agricultural,Tesrrestial,Forest And Value added GDP across the world "
   ]
  },
  {
   "cell_type": "code",
   "execution_count": null,
   "id": "4d7de635",
   "metadata": {},
   "outputs": [],
   "source": []
  },
  {
   "cell_type": "code",
   "execution_count": null,
   "id": "9696111e",
   "metadata": {},
   "outputs": [],
   "source": []
  },
  {
   "cell_type": "code",
   "execution_count": null,
   "id": "e16868e6",
   "metadata": {},
   "outputs": [],
   "source": []
  },
  {
   "cell_type": "code",
   "execution_count": null,
   "id": "40019481",
   "metadata": {},
   "outputs": [],
   "source": []
  },
  {
   "cell_type": "markdown",
   "id": "2f5e6e53",
   "metadata": {},
   "source": [
    "##### Analysing and Plotting the Attributes for selected Countries(GBR,USA,IND,JPN) in Different regions of world "
   ]
  },
  {
   "cell_type": "code",
   "execution_count": null,
   "id": "d9e482bc",
   "metadata": {},
   "outputs": [],
   "source": []
  },
  {
   "cell_type": "code",
   "execution_count": null,
   "id": "53495492",
   "metadata": {},
   "outputs": [],
   "source": []
  },
  {
   "cell_type": "code",
   "execution_count": null,
   "id": "d4d8434a",
   "metadata": {},
   "outputs": [],
   "source": []
  },
  {
   "cell_type": "code",
   "execution_count": null,
   "id": "d9288281",
   "metadata": {},
   "outputs": [],
   "source": []
  },
  {
   "cell_type": "code",
   "execution_count": null,
   "id": "1f7ef5cf",
   "metadata": {},
   "outputs": [],
   "source": []
  },
  {
   "cell_type": "markdown",
   "id": "99463a25",
   "metadata": {},
   "source": [
    "##### Analysing and plotting variations in attribute Across different Regions of World(Europe,North America,South and East Asia)"
   ]
  },
  {
   "cell_type": "code",
   "execution_count": null,
   "id": "c241b212",
   "metadata": {},
   "outputs": [],
   "source": []
  },
  {
   "cell_type": "code",
   "execution_count": null,
   "id": "016c246a",
   "metadata": {},
   "outputs": [],
   "source": []
  },
  {
   "cell_type": "code",
   "execution_count": null,
   "id": "d8cdfe2e",
   "metadata": {},
   "outputs": [],
   "source": []
  },
  {
   "cell_type": "markdown",
   "id": "a134597c",
   "metadata": {},
   "source": [
    "### END"
   ]
  }
 ],
 "metadata": {
  "kernelspec": {
   "display_name": "Python 3 (ipykernel)",
   "language": "python",
   "name": "python3"
  },
  "language_info": {
   "codemirror_mode": {
    "name": "ipython",
    "version": 3
   },
   "file_extension": ".py",
   "mimetype": "text/x-python",
   "name": "python",
   "nbconvert_exporter": "python",
   "pygments_lexer": "ipython3",
   "version": "3.9.7"
  }
 },
 "nbformat": 4,
 "nbformat_minor": 5
}
